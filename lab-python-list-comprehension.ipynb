{
 "cells": [
  {
   "cell_type": "markdown",
   "id": "25d7736c-ba17-4aff-b6bb-66eba20fbf4e",
   "metadata": {},
   "source": [
    "# Lab | List, Dict and Set Comprehension"
   ]
  },
  {
   "cell_type": "markdown",
   "id": "6f8e446f-16b4-4e21-92e7-9d3d1eb551b6",
   "metadata": {},
   "source": [
    "Objective: Practice how to work with list, dict and set comprehensions to improve the efficiency and clarity of your Python code."
   ]
  },
  {
   "cell_type": "markdown",
   "id": "7b3b329e-c56a-4009-b6f2-8849c02c0cb8",
   "metadata": {},
   "source": [
    "Hint: If you're having trouble writing a solution using a comprehension, try writing it out in a more traditional way first. This can help you break the problem down into smaller steps and better understand what you need to do. Once you have a working solution, you can then try to transform it into a comprehension if desired. Comprehensions can often be more concise and readable, but it's important to prioritize clarity and correctness over brevity."
   ]
  },
  {
   "cell_type": "markdown",
   "id": "20c3e882-9625-471e-afb4-48a4f40c5d1b",
   "metadata": {
    "tags": []
   },
   "source": [
    "## Challenge 1 - Katas"
   ]
  },
  {
   "cell_type": "markdown",
   "id": "75f816bf-f5a2-49a4-89de-89d8a533155f",
   "metadata": {},
   "source": [
    "Do the following katas using list, dict or set comprehension."
   ]
  },
  {
   "cell_type": "markdown",
   "id": "0cdcc026-2830-4db5-9ec3-76d71833df93",
   "metadata": {},
   "source": [
    "### Katas - 1\n",
    "\n",
    "The Western Suburbs Croquet Club has two categories of membership, Senior and Open. They would like your help with an application form that will tell prospective members which category they will be placed.\n",
    "\n",
    "To be a senior, a member must be at least 55 years old and have a handicap greater than 7. In this croquet club, handicaps range from -2 to +26; the better the player the lower the handicap.\n",
    "\n",
    "**Input**\n",
    "\n",
    "Input will consist of a list of pairs. Each pair contains information for a single potential member. Information consists of an integer for the person's age and an integer for the person's handicap.\n",
    "\n",
    "**Output**\n",
    "\n",
    "Output will consist of a list of string values stating whether the respective member is to be placed in the senior or open category.\n",
    "\n",
    "**Example**\n",
    "\n",
    "```python\n",
    "input =  [[18, 20], [45, 2], [61, 12], [37, 6], [21, 21], [78, 9]]\n",
    "output = [\"Open\", \"Open\", \"Senior\", \"Open\", \"Open\", \"Senior\"]\n",
    "```"
   ]
  },
  {
   "cell_type": "code",
   "execution_count": 16,
   "id": "21625526-3fae-4c55-bab5-f91940070681",
   "metadata": {},
   "outputs": [
    {
     "data": {
      "text/plain": [
       "['Open', 'Open', 'Senior', 'Open', 'Open', 'Senior']"
      ]
     },
     "execution_count": 16,
     "metadata": {},
     "output_type": "execute_result"
    }
   ],
   "source": [
    "# your code goes here\n",
    "input_list =  [[18, 20], [45, 2], [61, 12], [37, 6], [21, 21], [78, 9]]\n",
    "\n",
    "output_list = [\"Senior\" if (n[0] >= 55 and n[1] > 7) else \"Open\" for n in input_list]\n",
    "\n",
    "output_list"
   ]
  },
  {
   "cell_type": "markdown",
   "id": "ad8758b7-bc71-4af8-999c-5e4def116906",
   "metadata": {},
   "source": [
    "### Katas - 2\n",
    "\n",
    "If we list all the natural numbers below 10 that are multiples of 3 or 5, we get 3, 5, 6 and 9. The sum of these multiples is 23.\n",
    "\n",
    "Write a solution so that it returns the sum of all the multiples of 3 or 5 below the number passed in. Additionally, if the number is negative, return 0.\n",
    "\n",
    "Note: If the number is a multiple of both 3 and 5, only count it once."
   ]
  },
  {
   "cell_type": "code",
   "execution_count": 47,
   "id": "53061dce-7aa3-4476-8b56-71413c5e135c",
   "metadata": {},
   "outputs": [
    {
     "name": "stdin",
     "output_type": "stream",
     "text": [
      "Input a natural number:  5\n"
     ]
    },
    {
     "name": "stdout",
     "output_type": "stream",
     "text": [
      "8\n"
     ]
    }
   ],
   "source": [
    "# your code goes here\n",
    "x = input(\"Input a natural number: \")\n",
    "\n",
    "if int(x) < 0:\n",
    "    print(0)\n",
    "else:\n",
    "    output_list = [n for n in range(int(x)+1) if (n % 3 == 0 or n % 5 == 0)]\n",
    "    print(sum(output_list))"
   ]
  },
  {
   "cell_type": "markdown",
   "id": "bed9c59d-159a-41c4-86c0-d02b131d7070",
   "metadata": {},
   "source": [
    "### Katas - 3\n",
    "\n",
    "Given a non-negative integer, return an array / a list of the individual digits in order.\n",
    "\n",
    "Examples:\n",
    "\n",
    "```python\n",
    "\n",
    "123 => [1,2,3]\n",
    "\n",
    "1 => [1]\n",
    "\n",
    "8675309 => [8,6,7,5,3,0,9]\n",
    "\n",
    "```"
   ]
  },
  {
   "cell_type": "code",
   "execution_count": 72,
   "id": "a8cb1579-7065-4fc0-bd53-f91c2ad1dad9",
   "metadata": {},
   "outputs": [
    {
     "name": "stdin",
     "output_type": "stream",
     "text": [
      "Input a positive integer:  4h46h23h2\n"
     ]
    },
    {
     "name": "stdout",
     "output_type": "stream",
     "text": [
      "[2, 2, 3, 4, 4, 6]\n"
     ]
    }
   ],
   "source": [
    "# your code goes here\n",
    "\n",
    "n = input(\"Input a positive integer: \")\n",
    "\n",
    "output_list = [int(x) for x in n if x.isdigit()]\n",
    "\n",
    "print(sorted(output_list))"
   ]
  },
  {
   "cell_type": "markdown",
   "id": "ab3f6eaa-c74d-45fa-a84a-516ae6ff6e0f",
   "metadata": {},
   "source": [
    "### Katas - 4\n",
    "\n",
    "Given a set of numbers, create a function that returns the additive inverse of each. Each positive becomes negatives, and the negatives become positives.\n",
    "\n",
    "```python\n",
    "invert([1,2,3,4,5]) == [-1,-2,-3,-4,-5]\n",
    "invert([1,-2,3,-4,5]) == [-1,2,-3,4,-5]\n",
    "invert([]) == []\n",
    "```\n",
    "\n",
    "You can assume that all values are integers. Do not mutate the input array/list.\n"
   ]
  },
  {
   "cell_type": "code",
   "execution_count": 74,
   "id": "86ebe759-76d8-4012-8590-c48a473a6099",
   "metadata": {},
   "outputs": [],
   "source": [
    "def invert(input_list):\n",
    "    inverted_list = [-x for x in input_list]\n",
    "    return (inverted_list)\n",
    "    "
   ]
  },
  {
   "cell_type": "markdown",
   "id": "3a9f2c20-48d2-4d08-a8c5-76bb53caaafb",
   "metadata": {
    "tags": []
   },
   "source": [
    "## Challenge 2 - exercises"
   ]
  },
  {
   "cell_type": "markdown",
   "id": "1c3bfaae-d514-4d9d-adab-59b66af621c9",
   "metadata": {},
   "source": [
    "Do the following exercises using list, dict or set comprehension."
   ]
  },
  {
   "cell_type": "markdown",
   "id": "f5471e4a-a939-4626-9715-ad45f32c2487",
   "metadata": {},
   "source": [
    "### Exercise 1\n",
    "\n",
    "Create a dictionary whose keys (`key`) are integers between 1 and 15 (both inclusive) and the values (`value`) are the square of the key (`key`)."
   ]
  },
  {
   "cell_type": "code",
   "execution_count": 88,
   "id": "6711881b-450a-44cb-a3d0-367b2c6a4464",
   "metadata": {},
   "outputs": [
    {
     "data": {
      "text/plain": [
       "{1: 1,\n",
       " 2: 4,\n",
       " 3: 9,\n",
       " 4: 16,\n",
       " 5: 25,\n",
       " 6: 36,\n",
       " 7: 49,\n",
       " 8: 64,\n",
       " 9: 81,\n",
       " 10: 100,\n",
       " 11: 121,\n",
       " 12: 144,\n",
       " 13: 169,\n",
       " 14: 196,\n",
       " 15: 225}"
      ]
     },
     "execution_count": 88,
     "metadata": {},
     "output_type": "execute_result"
    }
   ],
   "source": [
    "{x: x**2 for x in range(1, 16)}"
   ]
  },
  {
   "cell_type": "markdown",
   "id": "47dafbe6-5f2c-4f51-94d9-ca52f6d11492",
   "metadata": {},
   "source": [
    "### Exercise 2\n",
    "\n",
    "Write a program that takes two lists of integers, and returns a list of all possible pairs of integers where the first integer is from the first list, and the second integer is from the second list.\n",
    "\n",
    "Example:\n",
    "\n",
    "```python\n",
    "Input: [1, 2], [3, 4]\n",
    "Output: [(1, 3), (1, 4), (2, 3), (2, 4)]\n",
    "```\n"
   ]
  },
  {
   "cell_type": "code",
   "execution_count": 98,
   "id": "a1d55cea-96c3-4853-8220-17c0904a8816",
   "metadata": {},
   "outputs": [
    {
     "data": {
      "text/plain": [
       "[(1, 3), (1, 4), (2, 3), (2, 4)]"
      ]
     },
     "execution_count": 98,
     "metadata": {},
     "output_type": "execute_result"
    }
   ],
   "source": [
    "def int_pairs(list1, list2):\n",
    "\n",
    "    new_list = []\n",
    "    \n",
    "    for x in range(len(list1)):\n",
    "        new_list1 = [(list1[x], list2[n]) for n in range(len(list2))]\n",
    "\n",
    "        for item in new_list1:\n",
    "            new_list.append(item)\n",
    "    \n",
    "    return new_list\n",
    "\n",
    "int_pairs([1, 2], [3, 4])"
   ]
  },
  {
   "cell_type": "code",
   "execution_count": 180,
   "id": "5aacce68-00b3-4c2a-a244-e23453d26b2c",
   "metadata": {},
   "outputs": [
    {
     "data": {
      "text/plain": [
       "[(1, 3), (2, 3), (1, 4), (2, 4)]"
      ]
     },
     "execution_count": 180,
     "metadata": {},
     "output_type": "execute_result"
    }
   ],
   "source": [
    "def int_pairs(list1, list2):\n",
    "    new_list = [(list1[x], list2[n]) for n in range(len(list2)) for x in range(len(list1))] \n",
    "    return new_list\n",
    "\n",
    "int_pairs([1, 2], [3, 4])"
   ]
  },
  {
   "cell_type": "markdown",
   "id": "03110a8a-0dd9-4eb4-b6ce-116233b4d6cf",
   "metadata": {},
   "source": [
    "### Exercise 3\n",
    "\n",
    "Write a program that takes a dictionary of lists as input, and returns a list of all possible key-value pairs, where the key is from the dictionary, and the value is from the corresponding list.\n",
    "Example:\n",
    "    \n",
    "```python\n",
    "Input: {\"a\": [1, 2], \"b\": [3, 4]}\n",
    "Output: [(\"a\", 1), (\"a\", 2), (\"b\", 3), (\"b\", 4)]\n",
    "```"
   ]
  },
  {
   "cell_type": "code",
   "execution_count": 190,
   "id": "0175239c-87fa-4ba0-8776-d62567256db7",
   "metadata": {},
   "outputs": [],
   "source": [
    "# your code goes here\n",
    "\n",
    "def dict_function(dict):\n",
    "\n",
    "    output_list = [(key, values[x]) for key, values in dict.items() for x in range(len(values))]\n",
    "\n",
    "    return (output_list)"
   ]
  },
  {
   "cell_type": "code",
   "execution_count": 192,
   "id": "8e63d864-3bcd-4518-aded-8196fb503b99",
   "metadata": {},
   "outputs": [
    {
     "data": {
      "text/plain": [
       "[('a', 1), ('a', 2), ('b', 3), ('b', 4)]"
      ]
     },
     "execution_count": 192,
     "metadata": {},
     "output_type": "execute_result"
    }
   ],
   "source": [
    "input_dict =  {\"a\": [1, 2], \"b\": [3, 4]}\n",
    "\n",
    "dict_function(input_dict)"
   ]
  },
  {
   "cell_type": "markdown",
   "id": "0cd7ff45-52eb-409c-9805-f838cdd95cc1",
   "metadata": {},
   "source": [
    "# Bonus exercises"
   ]
  },
  {
   "cell_type": "markdown",
   "id": "16d1e67a-6bd7-4932-a998-4542f06f029a",
   "metadata": {},
   "source": [
    "### Exercise 1\n",
    "\n",
    "Write a program that takes a list of tuples, where each tuple contains two lists of integers, and returns a list of all possible pairs of integers where the first integer is from the first list in a tuple, and the second integer is from the second list in the same tuple.\n",
    "\n",
    "Example:\n",
    "```python\n",
    "Input: [([1, 2], [3, 4]), ([5, 6], [7, 8])]\n",
    "Output: [(1, 3), (1, 4), (2, 3), (2, 4), (5, 7), (5, 8), (6, 7), (6, 8)]\n",
    "\n",
    "```"
   ]
  },
  {
   "cell_type": "code",
   "execution_count": 112,
   "id": "248918d0-f082-40a8-9d5c-c7b4ffd2bfca",
   "metadata": {},
   "outputs": [],
   "source": [
    "def integer_pairs(input_list):\n",
    "    new_list = []\n",
    "    for int_pair_tuples in input_list:\n",
    "       for x in range(2):\n",
    "           for y in range(2):\n",
    "               new_tuple = (int_pair_tuples[0][x], int_pair_tuples[1][y])\n",
    "               new_list.append(new_tuple)      \n",
    "            \n",
    "    return (new_list)\n",
    "    "
   ]
  },
  {
   "cell_type": "code",
   "execution_count": 114,
   "id": "17240dd4-0b1f-49d2-a414-458ab9f0712c",
   "metadata": {},
   "outputs": [
    {
     "data": {
      "text/plain": [
       "[(1, 3), (1, 4), (2, 3), (2, 4), (5, 7), (5, 8), (6, 7), (6, 8)]"
      ]
     },
     "execution_count": 114,
     "metadata": {},
     "output_type": "execute_result"
    }
   ],
   "source": [
    "integer_pairs([([1, 2], [3, 4]), ([5, 6], [7, 8])])"
   ]
  },
  {
   "cell_type": "code",
   "execution_count": 116,
   "id": "eeb1d774-1ef7-4417-bc2c-e5a1377b91d1",
   "metadata": {},
   "outputs": [
    {
     "data": {
      "text/plain": [
       "[(1, 3), (1, 4), (2, 3), (2, 4), (5, 7), (5, 8), (6, 7), (6, 8)]"
      ]
     },
     "execution_count": 116,
     "metadata": {},
     "output_type": "execute_result"
    }
   ],
   "source": [
    "def int_pairs(input_list):\n",
    "    new_list = [(int_pair_tuples[0][x], int_pair_tuples[1][y])\n",
    "                for int_pair_tuples in input_list\n",
    "                for x in range(2)\n",
    "                for y in range(2)] \n",
    "            \n",
    "    return (new_list)\n",
    "\n",
    "int_pairs([([1, 2], [3, 4]), ([5, 6], [7, 8])])"
   ]
  },
  {
   "cell_type": "markdown",
   "id": "737478d3-2e93-445f-b732-00043f9e0541",
   "metadata": {},
   "source": [
    "### Exercise 2\n",
    "\n",
    "Write a program that takes a list of strings, and returns a set of all possible pairs of characters where the first character is from the first string, and the second character is from the second string.\n",
    "\n",
    "Example:\n",
    "    \n",
    "```python\n",
    "Input: [\"ab\", \"cd\"]\n",
    "Output: {('a', 'b'), ('c', 'd'), ('a', 'd'), ('c', 'b')}\n",
    "```"
   ]
  },
  {
   "cell_type": "code",
   "execution_count": 158,
   "id": "c57d9e77-6859-45dd-a2e6-2c1898f1baa2",
   "metadata": {},
   "outputs": [],
   "source": [
    "def paired_string_chars(input_list):\n",
    "    output_set = set()\n",
    "    for n in range(len(input_list[0])):\n",
    "        for m in range(len(input_list[1])):\n",
    "            char_tuple =  (input_list[0][n], input_list[1][m])\n",
    "            output_set.add(char_tuple)\n",
    "    return output_set\n",
    "            "
   ]
  },
  {
   "cell_type": "code",
   "execution_count": 160,
   "id": "e522ed15-900b-4c2c-bd6c-6513d1c3b732",
   "metadata": {},
   "outputs": [
    {
     "data": {
      "text/plain": [
       "{('a', 'f'),\n",
       " ('a', 'l'),\n",
       " ('a', 'p'),\n",
       " ('b', 'f'),\n",
       " ('b', 'l'),\n",
       " ('b', 'p'),\n",
       " ('c', 'f'),\n",
       " ('c', 'l'),\n",
       " ('c', 'p'),\n",
       " ('d', 'f'),\n",
       " ('d', 'l'),\n",
       " ('d', 'p')}"
      ]
     },
     "execution_count": 160,
     "metadata": {},
     "output_type": "execute_result"
    }
   ],
   "source": [
    "paired_string_chars(['abcd','plf'])"
   ]
  },
  {
   "cell_type": "code",
   "execution_count": 178,
   "id": "2c728a97-c5dc-4006-9316-2b7ed1b88c4e",
   "metadata": {},
   "outputs": [
    {
     "data": {
      "text/plain": [
       "{('a', 'f'),\n",
       " ('a', 'l'),\n",
       " ('a', 'p'),\n",
       " ('b', 'f'),\n",
       " ('b', 'l'),\n",
       " ('b', 'p'),\n",
       " ('c', 'f'),\n",
       " ('c', 'l'),\n",
       " ('c', 'p'),\n",
       " ('d', 'f'),\n",
       " ('d', 'l'),\n",
       " ('d', 'p')}"
      ]
     },
     "execution_count": 178,
     "metadata": {},
     "output_type": "execute_result"
    }
   ],
   "source": [
    "def paired_str_chars(input_list):\n",
    "    output_set = {(input_list[0][n], input_list[1][m])\n",
    "                  for n in range(len(input_list[0]))\n",
    "                  for m in range(len(input_list[1]))\n",
    "                  }\n",
    "    return output_set\n",
    "\n",
    "paired_str_chars(['abcd','plf'])"
   ]
  },
  {
   "cell_type": "code",
   "execution_count": null,
   "id": "7f53472b-cd16-42d9-a1b3-6da82b580f88",
   "metadata": {},
   "outputs": [],
   "source": []
  }
 ],
 "metadata": {
  "kernelspec": {
   "display_name": "Python 3 (ipykernel)",
   "language": "python",
   "name": "python3"
  },
  "language_info": {
   "codemirror_mode": {
    "name": "ipython",
    "version": 3
   },
   "file_extension": ".py",
   "mimetype": "text/x-python",
   "name": "python",
   "nbconvert_exporter": "python",
   "pygments_lexer": "ipython3",
   "version": "3.12.4"
  }
 },
 "nbformat": 4,
 "nbformat_minor": 5
}
